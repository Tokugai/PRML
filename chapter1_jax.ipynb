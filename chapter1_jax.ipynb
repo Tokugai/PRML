{
 "cells": [
  {
   "cell_type": "markdown",
   "metadata": {},
   "source": [
    "# Notes from Christopher Bishop's <b>Pattern Recognition and Machine Learning</b>\n",
    "\n",
    "## Some notes I decided to take in notebook form, including code examples, visualizations, and equations and derviations"
   ]
  },
  {
   "cell_type": "code",
   "execution_count": 1,
   "metadata": {},
   "outputs": [],
   "source": [
    "%config Completer.use_jedi = False"
   ]
  },
  {
   "cell_type": "markdown",
   "metadata": {},
   "source": [
    "## Polynomial Curve Fitting\n",
    "\n",
    "### Generating Training Data"
   ]
  },
  {
   "cell_type": "code",
   "execution_count": 2,
   "metadata": {},
   "outputs": [
    {
     "name": "stderr",
     "output_type": "stream",
     "text": [
      "2022-02-01 19:52:26.396014: W external/org_tensorflow/tensorflow/compiler/xla/service/platform_util.cc:205] unable to create StreamExecutor for CUDA:0: failed initializing StreamExecutor for CUDA device ordinal 0: INTERNAL: failed call to cuDevicePrimaryCtxRetain: CUDA_ERROR_UNKNOWN: unknown error\n",
      "WARNING:absl:No GPU/TPU found, falling back to CPU. (Set TF_CPP_MIN_LOG_LEVEL=0 and rerun for more info.)\n"
     ]
    },
    {
     "data": {
      "image/png": "[encoded data removed]",
      "text/plain": [
       "<Figure size 432x288 with 1 Axes>"
      ]
     },
     "metadata": {
      "needs_background": "light"
     },
     "output_type": "display_data"
    }
   ],
   "source": [
    "import jax.numpy as np\n",
    "import math\n",
    "import matplotlib.pyplot as plt\n",
    "from jax import jit, grad, vmap, value_and_grad\n",
    "from jax import random\n",
    "\n",
    "#Number of points\n",
    "N = 10\n",
    "# Generate JAX andom key\n",
    "key = random.PRNGKey(5)\n",
    "\n",
    "#Create features\n",
    "x = random.uniform(key, shape=(N,), minval=0.0, maxval=1)\n",
    "#Create Labels\n",
    "y = np.sin(2*math.pi*x)\n",
    "#Add noise\n",
    "y = y+random.permutation(key, random.normal(key, shape=(N,)) * 0.1)\n",
    "\n",
    "#Create sin(2pi*x) function\n",
    "t_x = np.linspace(0,1)\n",
    "t_y = np.sin(2*math.pi*t_x)\n",
    "\n",
    "#Plot\n",
    "plt.scatter(x, y, facecolors = 'none', edgecolors = 'b')\n",
    "plt.plot(t_x, t_y,'g-')\n",
    "plt.xlabel(\"x\")\n",
    "plt.ylabel(\"t\")\n",
    "plt.show()"
   ]
  },
  {
   "cell_type": "markdown",
   "metadata": {},
   "source": [
    "### Fitting Polynomials"
   ]
  },
  {
   "cell_type": "code",
   "execution_count": 4,
   "metadata": {},
   "outputs": [
    {
     "name": "stdout",
     "output_type": "stream",
     "text": [
      "finished plotting degree 9 polynomial\n"
     ]
    },
    {
     "data": {
      "image/png": "[encoded data removed]",
      "text/plain": [
       "<Figure size 432x288 with 1 Axes>"
      ]
     },
     "metadata": {
      "needs_background": "light"
     },
     "output_type": "display_data"
    }
   ],
   "source": [
    "def polynomial(x, weights):\n",
    "    total = 0\n",
    "    for j, w in enumerate(weights):\n",
    "        total += w * x**j\n",
    "    return total\n",
    "\n",
    "jit_poly = jit(polynomial)\n",
    "\n",
    "def SSE(weights, features, targets):\n",
    "    error = 0\n",
    "    for x, t in zip(features, targets):\n",
    "        error += (jit_poly(x, weights) - t)**2\n",
    "    return 0.5 * error\n",
    "\n",
    "jit_sse = jit(SSE)\n",
    "\n",
    "def RMSerror(weights, features, targets):\n",
    "    return (2*jit_sse(weights, features, targets)/len(targets))**0.5\n",
    "\n",
    "jit_rmse = jit(RMSerror)\n",
    "\n",
    "rmse_grad = grad(jit_rmse)\n",
    "step = .05\n",
    "\n",
    "W_out = []\n",
    "M = [9]\n",
    "for i, m in enumerate(M):\n",
    "    plt.subplot(2, 2, i + 1)\n",
    "    W = random.normal(key, shape=(m+1,))\n",
    "\n",
    "    epochs = 100000\n",
    "    for i in range(epochs):\n",
    "        W -= step * rmse_grad(W, x, y)\n",
    "        \n",
    "    W_out.append([w for w in W])\n",
    "\n",
    "    plt.scatter(x, y, facecolors = 'none', edgecolors = 'b', s=50, label='training data')\n",
    "    plt.plot(t_x, t_y,'g-', label = '$\\sin(2\\pi x)$')\n",
    "    plt.plot(np.linspace(0,1,100), [polynomial(i, W) for i in np.linspace(0,1,100)], 'r-', label=f'polynomial fit')\n",
    "    plt.xlabel(\"x\")\n",
    "    plt.ylabel(\"t\")\n",
    "    print(f'finished plotting degree {m} polynomial')\n",
    "plt.legend(bbox_to_anchor=(1.05,0.64), loc=2, borderaxespad=0.)\n",
    "plt.show()"
   ]
  },
  {
   "cell_type": "code",
   "execution_count": 10,
   "metadata": {},
   "outputs": [
    {
     "data": {
      "text/plain": [
       "[[DeviceArray(-0.21230003, dtype=float32)],\n",
       " [DeviceArray(1.1159121, dtype=float32),\n",
       "  DeviceArray(-2.299864, dtype=float32)],\n",
       " [DeviceArray(1.4952445, dtype=float32),\n",
       "  DeviceArray(-2.8316264, dtype=float32),\n",
       "  DeviceArray(-3.6430528, dtype=float32),\n",
       "  DeviceArray(4.532626, dtype=float32)],\n",
       " [DeviceArray(0.913505, dtype=float32),\n",
       "  DeviceArray(0.7594674, dtype=float32),\n",
       "  DeviceArray(-4.4762034, dtype=float32),\n",
       "  DeviceArray(-1.5462804, dtype=float32),\n",
       "  DeviceArray(-0.3038877, dtype=float32),\n",
       "  DeviceArray(1.0573285, dtype=float32),\n",
       "  DeviceArray(1.8345873, dtype=float32),\n",
       "  DeviceArray(0.16711967, dtype=float32),\n",
       "  DeviceArray(2.0681076, dtype=float32),\n",
       "  DeviceArray(-0.28372458, dtype=float32)]]"
      ]
     },
     "execution_count": 10,
     "metadata": {},
     "output_type": "execute_result"
    }
   ],
   "source": [
    "W_out"
   ]
  },
  {
   "cell_type": "code",
   "execution_count": null,
   "metadata": {},
   "outputs": [],
   "source": []
  }
 ],
 "metadata": {
  "kernelspec": {
   "display_name": "Python 3 (ipykernel)",
   "language": "python",
   "name": "python3"
  },
  "language_info": {
   "codemirror_mode": {
    "name": "ipython",
    "version": 3
   },
   "file_extension": ".py",
   "mimetype": "text/x-python",
   "name": "python",
   "nbconvert_exporter": "python",
   "pygments_lexer": "ipython3",
   "version": "3.8.5"
  }
 },
 "nbformat": 4,
 "nbformat_minor": 4
}
